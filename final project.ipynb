{
  "nbformat": 4,
  "nbformat_minor": 0,
  "metadata": {
    "colab": {
      "name": "xiaokun_chen_zherui_lin.ipynb",
      "provenance": [],
      "collapsed_sections": []
    },
    "kernelspec": {
      "name": "python3",
      "display_name": "Python 3"
    }
  },
  "cells": [
    {
      "cell_type": "markdown",
      "metadata": {
        "id": "U5JUMgc_gbHp"
      },
      "source": [
        "# CS145: Project 3 | Prediction on Getting a Desirable Answer on Stack Overflow"
      ]
    },
    {
      "cell_type": "markdown",
      "metadata": {
        "id": "EHDiv4GrhofN"
      },
      "source": [
        "## Collaborators:\n",
        "Please list the names and SUNet IDs of your collaborators below:\n",
        "* *Xiaokun Chen, xiaokunc*\n",
        "* *Zherui Lin, zherui*"
      ]
    },
    {
      "cell_type": "markdown",
      "metadata": {
        "id": "gMNQWFvSgepX"
      },
      "source": [
        "\n",
        "## Project Overview\n",
        "---"
      ]
    },
    {
      "cell_type": "markdown",
      "metadata": {
        "id": "lX1Jkglwg1SI"
      },
      "source": [
        "\n",
        "Stack Overflow is a question-and-answer website for professional and enthusiast programmers. It features questions and answers on a wide range of topics in computer programming.\n",
        "\n",
        "The website serves as a platform for users to ask and answer questions, and, through membership and active participation, to vote questions and answers up or down. Users of Stack Overflow can earn reputation points and \"badges\"; for example, a person is awarded 10 reputation points for receiving an \"up\" vote on a question or an answer to a question, and can receive badges for their valued contributions. Users unlock new privileges with an increase in reputation like the ability to vote, comment, and even edit other people's posts.\n",
        "\n",
        "Each question posted has some tags assigned to it, indicating the content of the question, like JavaScript, Java, C#, PHP, and so forth. When replied by answers, the question owner can choose one answer as the accepted answer, which can be considered as the completion of the question post. But some lazy question owners are forgetting to confirm the accepted answer even if some answers are pretty good. Thus we can also define some answers as 'equally good answers even if there is not an existent accepted answer for the corresponding question.\n",
        "\n",
        "The central problem we are curious about is that given a newly posted question, whether and how long it will be answered by either an accepted answer or an equally-good answer (i.e., a desirable answer) based on its information and its owner's information.\n",
        "\n"
      ]
    },
    {
      "cell_type": "markdown",
      "metadata": {
        "id": "r_GvgTCcgv6N"
      },
      "source": [
        "## Analysis of Dataset\n",
        "---"
      ]
    },
    {
      "cell_type": "markdown",
      "metadata": {
        "id": "c6wGQ8ZPgyuJ"
      },
      "source": [
        "We use the stackoverflow dataset in the BigQuery Public Dataset for our project.\n",
        "\n",
        "The stackoverflow data set has 17 tables. However, we mainly use the following 5 tables: post_answers(26.75 GB, but we won’t use the body column, therefore the size reduces to around 2GB), post_questions(34.57 GB, but we also ignore the body column, so the size reduces to 3GB), users(2.53 GB), tags(2.4 MB), and badges(1.75 GB). In total, around 10 GB. \n",
        "\n",
        "The post_answers table contains the answer id, creation date, score (numbers of up-votes minus down-votes), question id, and the user id of the answer. The primary key is the answer id, and one foreign key is the user id, which can tell us who posted this answer.\n",
        "\n",
        "The post_questions table contains the question id, question title, accepted answer id, answer count, comment count, creation date, favorite (bookmark) count, user id, score (numbers of up-votes minus down-votes), tags, and view count of the question.  The primary key is the question id, and two foreign keys are the accepted answer id and the user id, which connect with the post_answers table and the users table.\n",
        "\n",
        "The users table contains user id, reputation value, up-votes, down-votes, and view count. The primary key is the user id.\n",
        "\n",
        "The tags table contains the tag name and count for all questions with the tag. The primary key is the tag name.\n",
        "\n",
        "The badges table contains the badge name, class, and user id of who owns it. All three columns are the primary keys in this table, and the user id is a foreign key.\n",
        "\n"
      ]
    },
    {
      "cell_type": "markdown",
      "metadata": {
        "id": "Fc_clta9g3H5"
      },
      "source": [
        "## Data Exploration\n",
        "---"
      ]
    },
    {
      "cell_type": "code",
      "metadata": {
        "id": "iTYZZK-lhCV9"
      },
      "source": [
        "# Run this cell to authenticate yourself to BigQuery\n",
        "from google.colab import auth\n",
        "auth.authenticate_user()\n",
        "project_id = \"cs-145-project-3-own\""
      ],
      "execution_count": null,
      "outputs": []
    },
    {
      "cell_type": "code",
      "metadata": {
        "id": "uIY7-6-thFc-"
      },
      "source": [
        "# Initialize BiqQuery client\n",
        "from google.cloud import bigquery\n",
        "client = bigquery.Client(project=project_id)"
      ],
      "execution_count": null,
      "outputs": []
    },
    {
      "cell_type": "code",
      "metadata": {
        "id": "NtEaG8NZhzWS"
      },
      "source": [
        "# Add imports for any visualization libraries you may need\n",
        "import matplotlib.pyplot as plt\n",
        "\n",
        "%matplotlib inline"
      ],
      "execution_count": null,
      "outputs": []
    },
    {
      "cell_type": "markdown",
      "metadata": {
        "id": "PQj-0f83ecrF"
      },
      "source": [
        "### Step 1: Define an equally good answer for a question without an accepted answer"
      ]
    },
    {
      "cell_type": "markdown",
      "metadata": {
        "id": "9ZvNl90s8wwt"
      },
      "source": [
        "As mentioned above, a posted question may not have an accepted answer just because of the laziness of the question owner. Some answers for questions without an accepted answer may be also good. Thus we should define the criterion for an equally-good answer. One feature we can consider is the ratio of the answer score by the view count of the question (i.e., **effective ratio**), which reflects the probability of agreement from other users who viewed this question. If the effective ratio of an answer is greater than a fixed threshold, we can consider the answer to be an equally good answer."
      ]
    },
    {
      "cell_type": "markdown",
      "metadata": {
        "id": "d92YLDTZAPWn"
      },
      "source": [
        "**a) The distribution of the effective ratio of answers for questions that do not have an accepted answer**"
      ]
    },
    {
      "cell_type": "markdown",
      "metadata": {
        "id": "tzXKTmaSA5a6"
      },
      "source": [
        "Since we are only looking for good answers, answers with negative or zero scores (i.e., not much agreement on them) can be ignored. Focusing on answers for questions that do not have an accepted answer, we should try to find the distribution of the effective ratio. We can then find a suitable threshold based on that distribution."
      ]
    },
    {
      "cell_type": "code",
      "metadata": {
        "id": "Is00_-W5hMVZ"
      },
      "source": [
        "%%bigquery --project cs-145-project-3-own s1a\n",
        "\n",
        "SELECT\n",
        "  a.score / b.view_count AS effective_ratio\n",
        "FROM\n",
        "  `bigquery-public-data.stackoverflow.posts_answers` AS a\n",
        "JOIN\n",
        "  `bigquery-public-data.stackoverflow.posts_questions` AS b\n",
        "ON\n",
        "  a.parent_id = b.id\n",
        "WHERE\n",
        "  b.accepted_answer_id IS NULL\n",
        "  AND a.score > 0 "
      ],
      "execution_count": null,
      "outputs": []
    },
    {
      "cell_type": "code",
      "metadata": {
        "id": "RMwjoVMcihfE",
        "colab": {
          "base_uri": "https://localhost:8080/",
          "height": 458
        },
        "outputId": "2264ec5f-8351-4e9c-b8a1-d2ec2443be23"
      },
      "source": [
        "plt.figure(figsize=(13, 7));\n",
        "plt.hist(s1a[\"effective_ratio\"],200,[0,0.1]);\n",
        "plt.title(\"Distribution of Effective Ratio\");\n",
        "plt.xlabel(\"Effective Ratio\");\n",
        "plt.ylabel(\"Frequency\");"
      ],
      "execution_count": null,
      "outputs": [
        {
          "output_type": "display_data",
          "data": {
            "image/png": "[encoded data removed]",
            "text/plain": [
              "<Figure size 936x504 with 1 Axes>"
            ]
          },
          "metadata": {
            "needs_background": "light"
          }
        }
      ]
    },
    {
      "cell_type": "markdown",
      "metadata": {
        "id": "srIwoiGlEGM5"
      },
      "source": [
        "**b) Decide the threshold on the effective ratio for equally good answers**"
      ]
    },
    {
      "cell_type": "markdown",
      "metadata": {
        "id": "qtB9G3_zP0We"
      },
      "source": [
        "From the distribution histogram, we can find most answers have a really low effective ratio, which should not be considered as good answers. Good answers should be something precious with relatively low frequency, thus we can decide 0.01 as the threshold for the effective ratio, which means answers with an effective ratio greater than **0.01** can be considered as equally-good answers. This belongs to part of our feature engineering."
      ]
    },
    {
      "cell_type": "markdown",
      "metadata": {
        "id": "OsMMIDrjg_YG"
      },
      "source": [
        "\n",
        "### Step 2: Analyze the distribution of time waiting for an desirable answer\n",
        "\n",
        "The original dataset does not explicitly show whether a question was answered by either an accepted answer or an equally-good answer (i.e., a desirable answer) and how long a question was answered by that. Thus we should explore them first. "
      ]
    },
    {
      "cell_type": "markdown",
      "metadata": {
        "id": "cMs_UbSXXh20"
      },
      "source": [
        "**a) The percentage of questions that was answered by a desirable answer.**"
      ]
    },
    {
      "cell_type": "markdown",
      "metadata": {
        "id": "wyQxlSCcX4F6"
      },
      "source": [
        "Not every question will be finally answered by a desirable answer. We can first explore what percentage of questions were finally answered by a desirable answer."
      ]
    },
    {
      "cell_type": "code",
      "metadata": {
        "id": "4QasWc0O6muC",
        "colab": {
          "base_uri": "https://localhost:8080/",
          "height": 81
        },
        "outputId": "479a97c6-e275-48d1-eb27-cd945935b14d"
      },
      "source": [
        "%%bigquery --project cs-145-project-3-own\n",
        "\n",
        "SELECT\n",
        "  ROUND(COUNTIF(id IN (\n",
        "      SELECT\n",
        "        DISTINCT b.id\n",
        "      FROM\n",
        "        `bigquery-public-data.stackoverflow.posts_answers` AS a\n",
        "      JOIN\n",
        "        `bigquery-public-data.stackoverflow.posts_questions` AS b\n",
        "      ON\n",
        "        a.parent_id = b.id\n",
        "      WHERE\n",
        "        b.accepted_answer_id IS NULL\n",
        "        AND a.score / b.view_count > 0.01)\n",
        "      OR accepted_answer_id IS NOT NULL) / COUNT(*) * 100, 2) AS percentage_of_questions_with_desirable_answer\n",
        "FROM\n",
        "  `bigquery-public-data.stackoverflow.posts_questions`"
      ],
      "execution_count": null,
      "outputs": [
        {
          "output_type": "execute_result",
          "data": {
            "text/html": [
              "<div>\n",
              "<style scoped>\n",
              "    .dataframe tbody tr th:only-of-type {\n",
              "        vertical-align: middle;\n",
              "    }\n",
              "\n",
              "    .dataframe tbody tr th {\n",
              "        vertical-align: top;\n",
              "    }\n",
              "\n",
              "    .dataframe thead th {\n",
              "        text-align: right;\n",
              "    }\n",
              "</style>\n",
              "<table border=\"1\" class=\"dataframe\">\n",
              "  <thead>\n",
              "    <tr style=\"text-align: right;\">\n",
              "      <th></th>\n",
              "      <th>percentage_of_questions_with_desirable_answer</th>\n",
              "    </tr>\n",
              "  </thead>\n",
              "  <tbody>\n",
              "    <tr>\n",
              "      <th>0</th>\n",
              "      <td>55.95</td>\n",
              "    </tr>\n",
              "  </tbody>\n",
              "</table>\n",
              "</div>"
            ],
            "text/plain": [
              "   percentage_of_questions_with_desirable_answer\n",
              "0                                          55.95"
            ]
          },
          "metadata": {},
          "execution_count": 46
        }
      ]
    },
    {
      "cell_type": "markdown",
      "metadata": {
        "id": "i4BxnMlbZg1H"
      },
      "source": [
        "We can find about 56% of the questions were finally answered by a desirable answer, which surprises us since near half of questions were never replied by a desirable answer. Thus it is quite meaningful to predict whether a question will receive a desirable answer or not."
      ]
    },
    {
      "cell_type": "markdown",
      "metadata": {
        "id": "NNtyS2pgasHA"
      },
      "source": [
        "**b) The distribution of time waiting for a desirable answer.**"
      ]
    },
    {
      "cell_type": "markdown",
      "metadata": {
        "id": "JO_6rtlEbAbo"
      },
      "source": [
        "Among questions with desirable answers, we can then analyze the distribution of time waiting for the desirable answer. For questions with an accepted answer, we can just calculate the duration from the creation date of the question to the creation date of the accepted answer. For questions without an accepted answer but with equally-good answers, we can only calculate the duration from the creation date of the question to the creation date of the **first** equally-good answer.\n",
        "\n",
        "To simplify our problem and to make it more realistic, we round up the waiting time to the nearest hour. For example, if the waiting time is 10 minutes, we round it up to one hour; if the waiting time is 12 hours and 30 seconds, we round it up to 13 hours. Thus our prediction output will also be in the unit of the hour. "
      ]
    },
    {
      "cell_type": "code",
      "metadata": {
        "id": "Lmu3GCn9cFm6"
      },
      "source": [
        "%%bigquery --project cs-145-project-3-own s2b\n",
        "\n",
        "SELECT\n",
        "  id,\n",
        "  waiting_hour\n",
        "FROM (\n",
        "  SELECT\n",
        "    b.id,\n",
        "    EXTRACT(HOUR\n",
        "    FROM\n",
        "      MIN(a.creation_date - b.creation_date)) + 1 AS waiting_hour\n",
        "  FROM\n",
        "    `bigquery-public-data.stackoverflow.posts_answers` AS a\n",
        "  JOIN\n",
        "    `bigquery-public-data.stackoverflow.posts_questions` AS b\n",
        "  ON\n",
        "    a.parent_id = b.id\n",
        "  WHERE\n",
        "    b.accepted_answer_id IS NULL\n",
        "    AND a.score / b.view_count > 0.01\n",
        "    AND a.creation_date > b.creation_date\n",
        "  GROUP BY\n",
        "    b.id)\n",
        "UNION ALL (\n",
        "  SELECT\n",
        "    b.id,\n",
        "    EXTRACT(HOUR\n",
        "    FROM (a.creation_date - b.creation_date)) + 1 AS waiting_hour\n",
        "  FROM\n",
        "    `bigquery-public-data.stackoverflow.posts_answers` AS a\n",
        "  JOIN\n",
        "    `bigquery-public-data.stackoverflow.posts_questions` AS b\n",
        "  ON\n",
        "    a.ID = b.accepted_answer_id\n",
        "  WHERE\n",
        "    a.creation_date > b.creation_date)"
      ],
      "execution_count": null,
      "outputs": []
    },
    {
      "cell_type": "code",
      "metadata": {
        "colab": {
          "base_uri": "https://localhost:8080/",
          "height": 458
        },
        "id": "3wm7A5rbiKZM",
        "outputId": "ac7e6caf-fcbf-4637-a258-965d65beaa10"
      },
      "source": [
        "plt.figure(figsize=(13, 7));\n",
        "plt.hist(s2b[\"waiting_hour\"],100,[0,100]);\n",
        "plt.title(\"Distribution of Waiting Hour\");\n",
        "plt.xlabel(\"Waiting Hour\");\n",
        "plt.ylabel(\"Frequency\");"
      ],
      "execution_count": null,
      "outputs": [
        {
          "output_type": "display_data",
          "data": {
            "image/png": "[encoded data removed]",
            "text/plain": [
              "<Figure size 936x504 with 1 Axes>"
            ]
          },
          "metadata": {
            "needs_background": "light"
          }
        }
      ]
    },
    {
      "cell_type": "markdown",
      "metadata": {
        "id": "XmiUjksbpdco"
      },
      "source": [
        "The range of the x-axis above is from 0 to 100 hours. We can find nearly all questions were answered by desirable answers within one day, and most questions were answered within one hour, which means Stack Overflow is quite an active platform.\n",
        "\n",
        "The uneven distribution result is not good news for our prediction objective. What we expected to predict is the waiting hour, and it was supposed to be continuously distributed over a wide range. But the result indicates the waiting hour concentrates at some special values, thus it is not an ideal output for a prediction regression.\n",
        "\n",
        "**Finally we decided to focus on the problem that whether a newly posted question will be ever replied to by a desirable answer.**"
      ]
    },
    {
      "cell_type": "markdown",
      "metadata": {
        "id": "Evu5LxJfry5l"
      },
      "source": [
        "### Step 3: Discuss suitable features for prediction"
      ]
    },
    {
      "cell_type": "markdown",
      "metadata": {
        "id": "57GJg4vXslNs"
      },
      "source": [
        "As mentioned above, our prediction is based on the question information and the question owner's behaviors. \n",
        "\n",
        "The length of the body of the question might have a great effect on the prediction result. Usually, questions with long descriptions cannot be answered in time, thus it might be an important feature for us.\n",
        "\n",
        "Tags are the related topics to a specific question. Questions with popular tags will receive desirable answers more easily. Each question has several tags, and we can split the tags string into every single tag string and simply put them as one feature.\n",
        "\n",
        "Some other features may come from the behavior or information of the question owner, like the reputation value, net votes received (i.e., up-votes minus down-votes), view count, and badge numbers. These features reflect the activity level, prestige, and contributions of the question owner. A question from a user with those high features might tend to be viewed more frequently by other users, resulting in a high probability of receiving desirable answers."
      ]
    },
    {
      "cell_type": "markdown",
      "metadata": {
        "id": "YAtrfzas90Bg"
      },
      "source": [
        "### Step 4: Extract training data"
      ]
    },
    {
      "cell_type": "markdown",
      "metadata": {
        "id": "aUgMUYQVqjzj"
      },
      "source": [
        "To predict whether a newly posted question will receive a desirable answer, we should extract the result label and input features we need from the original dataset. The result below displays the first 10 rows of the table returned by our extraction."
      ]
    },
    {
      "cell_type": "code",
      "metadata": {
        "colab": {
          "base_uri": "https://localhost:8080/",
          "height": 363
        },
        "id": "C8QqCtkRCWb5",
        "outputId": "b38ac46d-71ee-4c7a-c1eb-dcade19babe0"
      },
      "source": [
        "%%bigquery --project cs-145-project-3-own\n",
        "\n",
        "SELECT\n",
        "IF\n",
        "  (a.id IN (\n",
        "    SELECT\n",
        "      DISTINCT b.id\n",
        "    FROM\n",
        "      `bigquery-public-data.stackoverflow.posts_answers` AS a\n",
        "    JOIN\n",
        "      `bigquery-public-data.stackoverflow.posts_questions` AS b\n",
        "    ON\n",
        "      a.parent_id = b.id\n",
        "    WHERE\n",
        "      b.accepted_answer_id IS NULL\n",
        "      AND a.score / b.view_count > 0.01)\n",
        "    OR accepted_answer_id IS NOT NULL,\n",
        "    1,\n",
        "    0) AS label,\n",
        "  LENGTH(a.body) AS body_length,\n",
        "  SPLIT(a.tags, '|') AS tags_array,\n",
        "  b.reputation,\n",
        "  b.up_votes-b.down_votes AS net_votes,\n",
        "  b.views,\n",
        "  e.badge_number\n",
        "FROM\n",
        "  `bigquery-public-data.stackoverflow.posts_questions` AS a,\n",
        "  `bigquery-public-data.stackoverflow.users` AS b,\n",
        "  (\n",
        "  SELECT\n",
        "    c.id,\n",
        "    COUNT(DISTINCT d.id) AS badge_number\n",
        "  FROM\n",
        "    `bigquery-public-data.stackoverflow.users` AS c\n",
        "  JOIN\n",
        "    `bigquery-public-data.stackoverflow.badges` AS d\n",
        "  ON\n",
        "    c.id = d.user_id\n",
        "  GROUP BY\n",
        "    c.id) AS e\n",
        "WHERE\n",
        "  a.owner_user_id = b.id\n",
        "  AND b.id = e.id\n",
        "LIMIT\n",
        "  10"
      ],
      "execution_count": null,
      "outputs": [
        {
          "output_type": "execute_result",
          "data": {
            "text/html": [
              "<div>\n",
              "<style scoped>\n",
              "    .dataframe tbody tr th:only-of-type {\n",
              "        vertical-align: middle;\n",
              "    }\n",
              "\n",
              "    .dataframe tbody tr th {\n",
              "        vertical-align: top;\n",
              "    }\n",
              "\n",
              "    .dataframe thead th {\n",
              "        text-align: right;\n",
              "    }\n",
              "</style>\n",
              "<table border=\"1\" class=\"dataframe\">\n",
              "  <thead>\n",
              "    <tr style=\"text-align: right;\">\n",
              "      <th></th>\n",
              "      <th>label</th>\n",
              "      <th>body_length</th>\n",
              "      <th>tags_array</th>\n",
              "      <th>reputation</th>\n",
              "      <th>net_votes</th>\n",
              "      <th>views</th>\n",
              "      <th>badge_number</th>\n",
              "    </tr>\n",
              "  </thead>\n",
              "  <tbody>\n",
              "    <tr>\n",
              "      <th>0</th>\n",
              "      <td>1</td>\n",
              "      <td>746</td>\n",
              "      <td>[oracle, oracle11g, tns]</td>\n",
              "      <td>3640</td>\n",
              "      <td>200</td>\n",
              "      <td>253</td>\n",
              "      <td>71</td>\n",
              "    </tr>\n",
              "    <tr>\n",
              "      <th>1</th>\n",
              "      <td>1</td>\n",
              "      <td>527</td>\n",
              "      <td>[java, android, user-interface, fragment]</td>\n",
              "      <td>536</td>\n",
              "      <td>37</td>\n",
              "      <td>240</td>\n",
              "      <td>36</td>\n",
              "    </tr>\n",
              "    <tr>\n",
              "      <th>2</th>\n",
              "      <td>0</td>\n",
              "      <td>3363</td>\n",
              "      <td>[vba, ms-access]</td>\n",
              "      <td>15</td>\n",
              "      <td>0</td>\n",
              "      <td>12</td>\n",
              "      <td>3</td>\n",
              "    </tr>\n",
              "    <tr>\n",
              "      <th>3</th>\n",
              "      <td>1</td>\n",
              "      <td>1154</td>\n",
              "      <td>[excel, vba]</td>\n",
              "      <td>2348</td>\n",
              "      <td>99</td>\n",
              "      <td>362</td>\n",
              "      <td>115</td>\n",
              "    </tr>\n",
              "    <tr>\n",
              "      <th>4</th>\n",
              "      <td>1</td>\n",
              "      <td>809</td>\n",
              "      <td>[r]</td>\n",
              "      <td>143</td>\n",
              "      <td>0</td>\n",
              "      <td>28</td>\n",
              "      <td>6</td>\n",
              "    </tr>\n",
              "    <tr>\n",
              "      <th>5</th>\n",
              "      <td>1</td>\n",
              "      <td>756</td>\n",
              "      <td>[asp.net, aspnetboilerplate]</td>\n",
              "      <td>3</td>\n",
              "      <td>0</td>\n",
              "      <td>9</td>\n",
              "      <td>7</td>\n",
              "    </tr>\n",
              "    <tr>\n",
              "      <th>6</th>\n",
              "      <td>0</td>\n",
              "      <td>1986</td>\n",
              "      <td>[android, http-post, android-webview]</td>\n",
              "      <td>31</td>\n",
              "      <td>0</td>\n",
              "      <td>5</td>\n",
              "      <td>2</td>\n",
              "    </tr>\n",
              "    <tr>\n",
              "      <th>7</th>\n",
              "      <td>0</td>\n",
              "      <td>352</td>\n",
              "      <td>[python, fonts, truetype]</td>\n",
              "      <td>21</td>\n",
              "      <td>0</td>\n",
              "      <td>5</td>\n",
              "      <td>3</td>\n",
              "    </tr>\n",
              "    <tr>\n",
              "      <th>8</th>\n",
              "      <td>0</td>\n",
              "      <td>1511</td>\n",
              "      <td>[java, html, url]</td>\n",
              "      <td>625</td>\n",
              "      <td>233</td>\n",
              "      <td>71</td>\n",
              "      <td>26</td>\n",
              "    </tr>\n",
              "    <tr>\n",
              "      <th>9</th>\n",
              "      <td>1</td>\n",
              "      <td>411</td>\n",
              "      <td>[linux, bash, command-line]</td>\n",
              "      <td>11100</td>\n",
              "      <td>88</td>\n",
              "      <td>616</td>\n",
              "      <td>269</td>\n",
              "    </tr>\n",
              "  </tbody>\n",
              "</table>\n",
              "</div>"
            ],
            "text/plain": [
              "   label  body_length  ... views  badge_number\n",
              "0      1          746  ...   253            71\n",
              "1      1          527  ...   240            36\n",
              "2      0         3363  ...    12             3\n",
              "3      1         1154  ...   362           115\n",
              "4      1          809  ...    28             6\n",
              "5      1          756  ...     9             7\n",
              "6      0         1986  ...     5             2\n",
              "7      0          352  ...     5             3\n",
              "8      0         1511  ...    71            26\n",
              "9      1          411  ...   616           269\n",
              "\n",
              "[10 rows x 7 columns]"
            ]
          },
          "metadata": {},
          "execution_count": 42
        }
      ]
    },
    {
      "cell_type": "markdown",
      "metadata": {
        "id": "NhFSJifsiC1U"
      },
      "source": [
        "## Data Prediction\n",
        "---"
      ]
    },
    {
      "cell_type": "markdown",
      "metadata": {
        "id": "ofeY7XQuyhOU"
      },
      "source": [
        "### Step 1: Create a dataset to store the model"
      ]
    },
    {
      "cell_type": "code",
      "metadata": {
        "id": "60IkTUvY-WyT"
      },
      "source": [
        "model_dataset_name = 'bqml_stackoverflow'\n",
        "\n",
        "dataset = bigquery.Dataset(client.dataset(model_dataset_name))\n",
        "dataset.location = 'US'\n",
        "client.create_dataset(dataset)"
      ],
      "execution_count": null,
      "outputs": []
    },
    {
      "cell_type": "markdown",
      "metadata": {
        "id": "FhuywKCmF3Ow"
      },
      "source": [
        "### Step 2: Separate training, validation, and test sets"
      ]
    },
    {
      "cell_type": "markdown",
      "metadata": {
        "id": "EKczh5rsXfIv"
      },
      "source": [
        "**a) Some unusual spliting pitfalls.**"
      ]
    },
    {
      "cell_type": "markdown",
      "metadata": {
        "id": "1Z8CiF-cXePc"
      },
      "source": [
        "At first, we intended to split the train, validation, and test set by creation time of the question might be a good option. However, after training the first batch of models, we reflected and discovered that this way of splitting data deviates from the principle of using repeated data in training and testing. The hidden secret is that our feature selection mainly relies on the behavior of the question owner and the tags of the question. Therefore, if the same user raises one question in our “training set” and also raises a new question in our validation or test sets, the information of the same user would be reused. "
      ]
    },
    {
      "cell_type": "markdown",
      "metadata": {
        "id": "4vOrj-_2YDs3"
      },
      "source": [
        "**b) Final split decisions.**"
      ]
    },
    {
      "cell_type": "markdown",
      "metadata": {
        "id": "RyjdBHLwGC8M"
      },
      "source": [
        "Thus, in the end, we adopted a new way of splitting, which splits the user as 8:1:1 for training, validation, and testing set. We know that each user(i.e., unique user ID) could raise several questions. However, since we choose uses randomly, after mapping users to their questions, the ratio of training, validation, and testing set for questions is still 8:1:1. In this case, when we receive a new question, we could use the features of the question itself, such as the tags and the features of the question owner, to interpolate whether it would be qualitatively answered or not.\n",
        "\n",
        "We will train on questions with owner ID less than 13500000, and evaluate on owner ID between 13500000 and 15000000, and finally test on owner ID greater than 135000000. In this case, the ratio of the three datasets will be near 8:1:1."
      ]
    },
    {
      "cell_type": "markdown",
      "metadata": {
        "id": "SOrE73ZL_EUS"
      },
      "source": [
        "### Step 3: Train the model"
      ]
    },
    {
      "cell_type": "markdown",
      "metadata": {
        "id": "HqX73NakAf_z"
      },
      "source": [
        "For prediction on whether a newly posted question will be replied to by a desirable answer, the dataset should be the whole original dataset, and the output (label) type should be a boolean value (answered or not answered)."
      ]
    },
    {
      "cell_type": "code",
      "metadata": {
        "id": "SC5FRoOMKY_I",
        "colab": {
          "base_uri": "https://localhost:8080/",
          "height": 32
        },
        "outputId": "807ae6e2-767f-4c74-b7ef-733f0459efde"
      },
      "source": [
        "%%bigquery --project cs-145-project-3-own\n",
        "\n",
        "CREATE OR REPLACE MODEL\n",
        "  `bqml_stackoverflow.stackoverflow_model` OPTIONS(model_type = 'logistic_reg') AS\n",
        "SELECT\n",
        "IF\n",
        "  (a.id IN (\n",
        "    SELECT\n",
        "      DISTINCT b.id\n",
        "    FROM\n",
        "      `bigquery-public-data.stackoverflow.posts_answers` AS a\n",
        "    JOIN\n",
        "      `bigquery-public-data.stackoverflow.posts_questions` AS b\n",
        "    ON\n",
        "      a.parent_id = b.id\n",
        "    WHERE\n",
        "      b.accepted_answer_id IS NULL\n",
        "      AND a.score / b.view_count > 0.01)\n",
        "    OR accepted_answer_id IS NOT NULL,\n",
        "    1,\n",
        "    0) AS label,\n",
        "  LENGTH(a.body) AS body_length,\n",
        "  SPLIT(a.tags, '|') AS tags_array,\n",
        "  b.reputation,\n",
        "  b.up_votes-b.down_votes AS net_votes,\n",
        "  b.views,\n",
        "  e.badge_number\n",
        "FROM\n",
        "  `bigquery-public-data.stackoverflow.posts_questions` AS a,\n",
        "  `bigquery-public-data.stackoverflow.users` AS b,\n",
        "  (\n",
        "  SELECT\n",
        "    c.id,\n",
        "    COUNT(DISTINCT d.id) AS badge_number\n",
        "  FROM\n",
        "    `bigquery-public-data.stackoverflow.users` AS c\n",
        "  JOIN\n",
        "    `bigquery-public-data.stackoverflow.badges` AS d\n",
        "  ON\n",
        "    c.id = d.user_id\n",
        "  GROUP BY\n",
        "    c.id) AS e\n",
        "WHERE\n",
        "  a.owner_user_id = b.id\n",
        "  AND b.id = e.id\n",
        "  AND b.id < 13500000"
      ],
      "execution_count": null,
      "outputs": [
        {
          "output_type": "execute_result",
          "data": {
            "text/html": [
              "<div>\n",
              "<style scoped>\n",
              "    .dataframe tbody tr th:only-of-type {\n",
              "        vertical-align: middle;\n",
              "    }\n",
              "\n",
              "    .dataframe tbody tr th {\n",
              "        vertical-align: top;\n",
              "    }\n",
              "\n",
              "    .dataframe thead th {\n",
              "        text-align: right;\n",
              "    }\n",
              "</style>\n",
              "<table border=\"1\" class=\"dataframe\">\n",
              "  <thead>\n",
              "    <tr style=\"text-align: right;\">\n",
              "      <th></th>\n",
              "    </tr>\n",
              "  </thead>\n",
              "  <tbody>\n",
              "  </tbody>\n",
              "</table>\n",
              "</div>"
            ],
            "text/plain": [
              "Empty DataFrame\n",
              "Columns: []\n",
              "Index: []"
            ]
          },
          "metadata": {},
          "execution_count": 44
        }
      ]
    },
    {
      "cell_type": "markdown",
      "metadata": {
        "id": "opffo_-NpBht"
      },
      "source": [
        "Below are the training statistics on our model."
      ]
    },
    {
      "cell_type": "code",
      "metadata": {
        "colab": {
          "base_uri": "https://localhost:8080/",
          "height": 206
        },
        "id": "c-iQul3ApAqb",
        "outputId": "5de488b6-482f-4e90-a118-785abc72d7c5"
      },
      "source": [
        "%%bigquery --project cs-145-project-3-own\n",
        "\n",
        "SELECT\n",
        "  *\n",
        "FROM\n",
        "  ML.TRAINING_INFO(MODEL `bqml_stackoverflow.stackoverflow_model`)"
      ],
      "execution_count": null,
      "outputs": [
        {
          "output_type": "execute_result",
          "data": {
            "text/html": [
              "<div>\n",
              "<style scoped>\n",
              "    .dataframe tbody tr th:only-of-type {\n",
              "        vertical-align: middle;\n",
              "    }\n",
              "\n",
              "    .dataframe tbody tr th {\n",
              "        vertical-align: top;\n",
              "    }\n",
              "\n",
              "    .dataframe thead th {\n",
              "        text-align: right;\n",
              "    }\n",
              "</style>\n",
              "<table border=\"1\" class=\"dataframe\">\n",
              "  <thead>\n",
              "    <tr style=\"text-align: right;\">\n",
              "      <th></th>\n",
              "      <th>training_run</th>\n",
              "      <th>iteration</th>\n",
              "      <th>loss</th>\n",
              "      <th>eval_loss</th>\n",
              "      <th>learning_rate</th>\n",
              "      <th>duration_ms</th>\n",
              "    </tr>\n",
              "  </thead>\n",
              "  <tbody>\n",
              "    <tr>\n",
              "      <th>0</th>\n",
              "      <td>0</td>\n",
              "      <td>4</td>\n",
              "      <td>0.644785</td>\n",
              "      <td>0.648873</td>\n",
              "      <td>3.2</td>\n",
              "      <td>36937</td>\n",
              "    </tr>\n",
              "    <tr>\n",
              "      <th>1</th>\n",
              "      <td>0</td>\n",
              "      <td>3</td>\n",
              "      <td>0.648450</td>\n",
              "      <td>0.651161</td>\n",
              "      <td>1.6</td>\n",
              "      <td>40359</td>\n",
              "    </tr>\n",
              "    <tr>\n",
              "      <th>2</th>\n",
              "      <td>0</td>\n",
              "      <td>2</td>\n",
              "      <td>0.657139</td>\n",
              "      <td>0.658506</td>\n",
              "      <td>0.8</td>\n",
              "      <td>41717</td>\n",
              "    </tr>\n",
              "    <tr>\n",
              "      <th>3</th>\n",
              "      <td>0</td>\n",
              "      <td>1</td>\n",
              "      <td>0.670272</td>\n",
              "      <td>0.670843</td>\n",
              "      <td>0.4</td>\n",
              "      <td>40371</td>\n",
              "    </tr>\n",
              "    <tr>\n",
              "      <th>4</th>\n",
              "      <td>0</td>\n",
              "      <td>0</td>\n",
              "      <td>0.683494</td>\n",
              "      <td>0.683674</td>\n",
              "      <td>0.2</td>\n",
              "      <td>29318</td>\n",
              "    </tr>\n",
              "  </tbody>\n",
              "</table>\n",
              "</div>"
            ],
            "text/plain": [
              "   training_run  iteration      loss  eval_loss  learning_rate  duration_ms\n",
              "0             0          4  0.644785   0.648873            3.2        36937\n",
              "1             0          3  0.648450   0.651161            1.6        40359\n",
              "2             0          2  0.657139   0.658506            0.8        41717\n",
              "3             0          1  0.670272   0.670843            0.4        40371\n",
              "4             0          0  0.683494   0.683674            0.2        29318"
            ]
          },
          "metadata": {},
          "execution_count": 37
        }
      ]
    },
    {
      "cell_type": "markdown",
      "metadata": {
        "id": "PuBZyzeFbgxp"
      },
      "source": [
        "### Step 4: Evaluate the model on the validation dataset\n",
        "\n"
      ]
    },
    {
      "cell_type": "markdown",
      "metadata": {
        "id": "CGxzMuqtbzO7"
      },
      "source": [
        "After creating the model, we can use the models and the validation dataset to evaluate the models."
      ]
    },
    {
      "cell_type": "code",
      "metadata": {
        "colab": {
          "base_uri": "https://localhost:8080/",
          "height": 81
        },
        "id": "M7dgv702X7kp",
        "outputId": "29722d8a-aa01-4647-9ed5-823dfcfc8289"
      },
      "source": [
        "%%bigquery --project cs-145-project-3-own\n",
        "\n",
        "SELECT\n",
        "  *\n",
        "FROM\n",
        "  ML.EVALUATE(MODEL `bqml_stackoverflow.stackoverflow_model`, (\n",
        "SELECT\n",
        "IF\n",
        "  (a.id IN (\n",
        "    SELECT\n",
        "      DISTINCT b.id\n",
        "    FROM\n",
        "      `bigquery-public-data.stackoverflow.posts_answers` AS a\n",
        "    JOIN\n",
        "      `bigquery-public-data.stackoverflow.posts_questions` AS b\n",
        "    ON\n",
        "      a.parent_id = b.id\n",
        "    WHERE\n",
        "      b.accepted_answer_id IS NULL\n",
        "      AND a.score / b.view_count > 0.01) OR accepted_answer_id IS NOT NULL,\n",
        "    1,\n",
        "    0) AS label,\n",
        "  LENGTH(a.body) AS body_length,\n",
        "  SPLIT(a.tags, '|') AS tags_array,\n",
        "  b.reputation,\n",
        "  b.up_votes-b.down_votes AS net_votes,\n",
        "  b.views,\n",
        "  e.badge_number\n",
        "FROM\n",
        "  `bigquery-public-data.stackoverflow.posts_questions` AS a,\n",
        "  `bigquery-public-data.stackoverflow.users` AS b,\n",
        "  (\n",
        "  SELECT\n",
        "    c.id,\n",
        "    COUNT(DISTINCT d.id) AS badge_number\n",
        "  FROM\n",
        "    `bigquery-public-data.stackoverflow.users` AS c\n",
        "  JOIN\n",
        "    `bigquery-public-data.stackoverflow.badges` AS d\n",
        "  ON\n",
        "    c.id = d.user_id\n",
        "  GROUP BY\n",
        "    c.id) AS e\n",
        "WHERE\n",
        "  a.owner_user_id = b.id\n",
        "  AND b.id = e.id\n",
        "  AND b.id BETWEEN 13500000 AND 15000000))"
      ],
      "execution_count": null,
      "outputs": [
        {
          "output_type": "execute_result",
          "data": {
            "text/html": [
              "<div>\n",
              "<style scoped>\n",
              "    .dataframe tbody tr th:only-of-type {\n",
              "        vertical-align: middle;\n",
              "    }\n",
              "\n",
              "    .dataframe tbody tr th {\n",
              "        vertical-align: top;\n",
              "    }\n",
              "\n",
              "    .dataframe thead th {\n",
              "        text-align: right;\n",
              "    }\n",
              "</style>\n",
              "<table border=\"1\" class=\"dataframe\">\n",
              "  <thead>\n",
              "    <tr style=\"text-align: right;\">\n",
              "      <th></th>\n",
              "      <th>precision</th>\n",
              "      <th>recall</th>\n",
              "      <th>accuracy</th>\n",
              "      <th>f1_score</th>\n",
              "      <th>log_loss</th>\n",
              "      <th>roc_auc</th>\n",
              "    </tr>\n",
              "  </thead>\n",
              "  <tbody>\n",
              "    <tr>\n",
              "      <th>0</th>\n",
              "      <td>0.580932</td>\n",
              "      <td>0.723871</td>\n",
              "      <td>0.612859</td>\n",
              "      <td>0.644572</td>\n",
              "      <td>0.658853</td>\n",
              "      <td>0.659544</td>\n",
              "    </tr>\n",
              "  </tbody>\n",
              "</table>\n",
              "</div>"
            ],
            "text/plain": [
              "   precision    recall  accuracy  f1_score  log_loss   roc_auc\n",
              "0   0.580932  0.723871  0.612859  0.644572  0.658853  0.659544"
            ]
          },
          "metadata": {},
          "execution_count": 38
        }
      ]
    },
    {
      "cell_type": "markdown",
      "metadata": {
        "id": "BPO4-U_1HOPY"
      },
      "source": [
        "After evaluation, we can find the accuracy is greater than 61%, which is somehow acceptable for our prediction. And the precision also reaches 58%, which can provide relatively stable results.\n",
        "\n",
        "It is not the first time we evaluate the model on the validation set. We have adjusted our input features several times based on the evaluation results. For example, in the end, when trying different feature selections, we add the length of the question body as one feature. The intuitive thought is as the body length grows, the question owner would have deep or sophisticated thoughts about the question. The probability of getting qualitatively answered could decrease. But this idea is not supported by increasing the accuracy of the model.    "
      ]
    },
    {
      "cell_type": "markdown",
      "metadata": {
        "id": "0h2grYs7KLmf"
      },
      "source": [
        "### Step 5: Evaluate the final model on the test dataset"
      ]
    },
    {
      "cell_type": "markdown",
      "metadata": {
        "id": "mTJEBNT0KeR7"
      },
      "source": [
        "Finally, we should use the model and the test dataset to evaluate the final models."
      ]
    },
    {
      "cell_type": "code",
      "metadata": {
        "colab": {
          "base_uri": "https://localhost:8080/",
          "height": 81
        },
        "id": "Aq1xhOaWLanO",
        "outputId": "7e1f87b7-07aa-4d32-cc7c-3457d92ae8af"
      },
      "source": [
        "%%bigquery --project cs-145-project-3-own\n",
        "\n",
        "SELECT\n",
        "  *\n",
        "FROM\n",
        "  ML.EVALUATE(MODEL `bqml_stackoverflow.stackoverflow_model`, (\n",
        "SELECT\n",
        "IF\n",
        "  (a.id IN (\n",
        "    SELECT\n",
        "      DISTINCT b.id\n",
        "    FROM\n",
        "      `bigquery-public-data.stackoverflow.posts_answers` AS a\n",
        "    JOIN\n",
        "      `bigquery-public-data.stackoverflow.posts_questions` AS b\n",
        "    ON\n",
        "      a.parent_id = b.id\n",
        "    WHERE\n",
        "      b.accepted_answer_id IS NULL\n",
        "      AND a.score / b.view_count > 0.01) OR accepted_answer_id IS NOT NULL,\n",
        "    1,\n",
        "    0) AS label,\n",
        "  LENGTH(a.body) AS body_length,\n",
        "  SPLIT(a.tags, '|') AS tags_array,\n",
        "  b.reputation,\n",
        "  b.up_votes-b.down_votes AS net_votes,\n",
        "  b.views,\n",
        "  e.badge_number\n",
        "FROM\n",
        "  `bigquery-public-data.stackoverflow.posts_questions` AS a,\n",
        "  `bigquery-public-data.stackoverflow.users` AS b,\n",
        "  (\n",
        "  SELECT\n",
        "    c.id,\n",
        "    COUNT(DISTINCT d.id) AS badge_number\n",
        "  FROM\n",
        "    `bigquery-public-data.stackoverflow.users` AS c\n",
        "  JOIN\n",
        "    `bigquery-public-data.stackoverflow.badges` AS d\n",
        "  ON\n",
        "    c.id = d.user_id\n",
        "  GROUP BY\n",
        "    c.id) AS e\n",
        "WHERE\n",
        "  a.owner_user_id = b.id\n",
        "  AND b.id = e.id\n",
        "  AND b.id > 15000000))"
      ],
      "execution_count": null,
      "outputs": [
        {
          "output_type": "execute_result",
          "data": {
            "text/html": [
              "<div>\n",
              "<style scoped>\n",
              "    .dataframe tbody tr th:only-of-type {\n",
              "        vertical-align: middle;\n",
              "    }\n",
              "\n",
              "    .dataframe tbody tr th {\n",
              "        vertical-align: top;\n",
              "    }\n",
              "\n",
              "    .dataframe thead th {\n",
              "        text-align: right;\n",
              "    }\n",
              "</style>\n",
              "<table border=\"1\" class=\"dataframe\">\n",
              "  <thead>\n",
              "    <tr style=\"text-align: right;\">\n",
              "      <th></th>\n",
              "      <th>precision</th>\n",
              "      <th>recall</th>\n",
              "      <th>accuracy</th>\n",
              "      <th>f1_score</th>\n",
              "      <th>log_loss</th>\n",
              "      <th>roc_auc</th>\n",
              "    </tr>\n",
              "  </thead>\n",
              "  <tbody>\n",
              "    <tr>\n",
              "      <th>0</th>\n",
              "      <td>0.556524</td>\n",
              "      <td>0.722495</td>\n",
              "      <td>0.606189</td>\n",
              "      <td>0.628741</td>\n",
              "      <td>0.662074</td>\n",
              "      <td>0.656955</td>\n",
              "    </tr>\n",
              "  </tbody>\n",
              "</table>\n",
              "</div>"
            ],
            "text/plain": [
              "   precision    recall  accuracy  f1_score  log_loss   roc_auc\n",
              "0   0.556524  0.722495  0.606189  0.628741  0.662074  0.656955"
            ]
          },
          "metadata": {},
          "execution_count": 45
        }
      ]
    },
    {
      "cell_type": "markdown",
      "metadata": {
        "id": "Dg7Lhqi_yDcy"
      },
      "source": [
        "## Conclusion, and future improvements\n",
        "---"
      ]
    },
    {
      "cell_type": "markdown",
      "metadata": {
        "id": "YmVpTigjyHMY"
      },
      "source": [
        "The conclusion of our journey of exploring and predicting the Stack Overflow question data is that the seemingly related data could have a little relationship. For instance, we conceive that the length of the body has high relevance to the fast response of the answer. Unfortunately, it does not. After adding the feature, the accuracy increases by less than 0.5%. However, the tags do have a strong relationship with it. We get an increase of 10 % after adding the processed tag data. Furthermore, we also learn a lesson about how to engineer different features, for example, the effective ratio, the tags_array, net_votes, and the length of the question body. Those additional inferred and processed features could contribute to a more accurate model.\n",
        "\n",
        "There is also another amazing thing we found. At first, we expected to predict one problem (how long a question will be answered). But after exploring the raw dataset, we finally found another problem (whether a question will be qualitatively answered) that is more meaningful. That is a good lesson we learned.\n",
        "\n",
        "For future work, we could add more sophisticated engineered features such as the history of the qualitatively answered ratio of the questioner. Also, we could further observe the recommendation algorithm of the stackoverflow system to interpolate other useful engineered features, optimizing the potential algorithm that pushes more questions to the potential respondent according to the user portrait.\n"
      ]
    }
  ]
}